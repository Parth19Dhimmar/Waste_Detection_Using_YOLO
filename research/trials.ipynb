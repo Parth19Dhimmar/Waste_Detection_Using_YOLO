{
 "cells": [
  {
   "cell_type": "code",
   "execution_count": 4,
   "metadata": {},
   "outputs": [],
   "source": [
    "import gdown"
   ]
  },
  {
   "cell_type": "code",
   "execution_count": null,
   "metadata": {},
   "outputs": [],
   "source": [
    "%cd .."
   ]
  },
  {
   "cell_type": "code",
   "execution_count": 16,
   "metadata": {},
   "outputs": [
    {
     "name": "stdout",
     "output_type": "stream",
     "text": [
      "file_id 1rfu3R5hEMVyHHUbvod2KRneQQpFRX4Th\n"
     ]
    },
    {
     "name": "stderr",
     "output_type": "stream",
     "text": [
      "Downloading...\n",
      "From: https://drive.google.com/uc?/export=download&id=1rfu3R5hEMVyHHUbvod2KRneQQpFRX4Th\n",
      "To: d:\\Parth\\ML\\Projects\\Computer Vision\\Object_Detection\\Waste_Detection_Using_YOLO\\data\\data.zip\n",
      "100%|██████████| 162k/162k [00:00<00:00, 810kB/s]\n"
     ]
    },
    {
     "data": {
      "text/plain": [
       "'data/data.zip'"
      ]
     },
     "execution_count": 16,
     "metadata": {},
     "output_type": "execute_result"
    }
   ],
   "source": [
    "url = \"https://drive.google.com/file/d/1rfu3R5hEMVyHHUbvod2KRneQQpFRX4Th/view?usp=sharing\"\n",
    "file_id = url.split(\"/\")[-2]\n",
    "print(\"file_id\", file_id)\n",
    "prefix = \"https://drive.google.com/uc?/export=download&id=\"\n",
    "gdown.download(prefix+file_id, \"data/data.zip\")"
   ]
  },
  {
   "cell_type": "code",
   "execution_count": 15,
   "metadata": {},
   "outputs": [
    {
     "name": "stderr",
     "output_type": "stream",
     "text": [
      "unzip:  cannot find or open data.zip, data.zip.zip or data.zip.ZIP.\n"
     ]
    }
   ],
   "source": [
    "!unzip data.zip\n",
    "!rm -rf data.zip"
   ]
  },
  {
   "cell_type": "code",
   "execution_count": null,
   "metadata": {},
   "outputs": [],
   "source": []
  },
  {
   "cell_type": "code",
   "execution_count": 13,
   "metadata": {},
   "outputs": [
    {
     "name": "stderr",
     "output_type": "stream",
     "text": [
      "Downloading...\n",
      "From: https://drive.google.com/uc?/export=download&id=1rfu3R5hEMVyHHUbvod2KRneQQpFRX4Th\n",
      "To: d:\\Parth\\ML\\Projects\\Computer Vision\\Object_Detection\\Waste_Detection_Using_YOLO\\data\\data.zip\n",
      "100%|██████████| 162k/162k [00:00<00:00, 958kB/s]\n"
     ]
    },
    {
     "data": {
      "text/plain": [
       "'data/data.zip'"
      ]
     },
     "execution_count": 13,
     "metadata": {},
     "output_type": "execute_result"
    }
   ],
   "source": []
  },
  {
   "cell_type": "code",
   "execution_count": null,
   "metadata": {},
   "outputs": [],
   "source": []
  }
 ],
 "metadata": {
  "kernelspec": {
   "display_name": "Python 3",
   "language": "python",
   "name": "python3"
  },
  "language_info": {
   "codemirror_mode": {
    "name": "ipython",
    "version": 3
   },
   "file_extension": ".py",
   "mimetype": "text/x-python",
   "name": "python",
   "nbconvert_exporter": "python",
   "pygments_lexer": "ipython3",
   "version": "3.12.0"
  }
 },
 "nbformat": 4,
 "nbformat_minor": 2
}
